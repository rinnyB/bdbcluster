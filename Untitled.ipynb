{
 "cells": [
  {
   "cell_type": "code",
   "execution_count": 1,
   "metadata": {},
   "outputs": [],
   "source": [
    "from bigchaindb_driver import BigchainDB\n",
    "from bigchaindb_driver.crypto import generate_keypair\n",
    "\n",
    "for e in list(range(0, 1)):\n",
    "    uri = \"http://localhost:9001/\".format(e)\n",
    "\n",
    "    bdb = BigchainDB(uri)\n",
    "\n",
    "    alice = generate_keypair()\n",
    "\n",
    "    hello_1 = {'data': {'msg': 'Hello BigchainDB 1!'},}\n",
    "    hello_2 = {'data': {'msg': 'Hello BigchainDB 2!'},}\n",
    "    hello_3 = {'data': {'msg': 'Hello BigchainDB 3!'},}\n",
    "\n",
    "    # set the metadata to query for it in an example below\n",
    "    metadata={'planet': 'earth'}\n",
    "\n",
    "    prepared_creation_tx = bdb.transactions.prepare(\n",
    "        operation='CREATE',\n",
    "        signers=alice.public_key,\n",
    "        asset=hello_1\n",
    "    )\n",
    "    fulfilled_creation_tx = bdb.transactions.fulfill(\n",
    "        prepared_creation_tx, private_keys=alice.private_key)\n",
    "    bdb.transactions.send_commit(fulfilled_creation_tx)\n",
    "\n",
    "    prepared_creation_tx = bdb.transactions.prepare(\n",
    "        operation='CREATE',\n",
    "        signers=alice.public_key,\n",
    "        asset=hello_2\n",
    "    )\n",
    "    fulfilled_creation_tx = bdb.transactions.fulfill(\n",
    "        prepared_creation_tx, private_keys=alice.private_key)\n",
    "    bdb.transactions.send_commit(fulfilled_creation_tx)\n",
    "\n",
    "    prepared_creation_tx = bdb.transactions.prepare(\n",
    "        operation='CREATE',\n",
    "        signers=alice.public_key,\n",
    "        asset=hello_3\n",
    "    )\n",
    "    fulfilled_creation_tx = bdb.transactions.fulfill(\n",
    "        prepared_creation_tx, private_keys=alice.private_key)\n",
    "    bdb.transactions.send_commit(fulfilled_creation_tx)"
   ]
  },
  {
   "cell_type": "code",
   "execution_count": 2,
   "metadata": {},
   "outputs": [
    {
     "data": {
      "text/plain": [
       "[]"
      ]
     },
     "execution_count": 2,
     "metadata": {},
     "output_type": "execute_result"
    }
   ],
   "source": [
    "bdb.assets.get(search='BigchainDB')"
   ]
  },
  {
   "cell_type": "code",
   "execution_count": 4,
   "metadata": {},
   "outputs": [
    {
     "name": "stdout",
     "output_type": "stream",
     "text": [
      "http://localhost:9000/\n",
      "[]\n",
      "http://localhost:9001/\n",
      "[]\n",
      "http://localhost:9002/\n",
      "[]\n",
      "http://localhost:9003/\n",
      "[]\n"
     ]
    }
   ],
   "source": [
    "for e in list(range(0, 4)):\n",
    "    uri = \"http://localhost:900{}/\".format(e)\n",
    "    print(uri)\n",
    "    bdb = BigchainDB(uri)\n",
    "    res = bdb.assets.get(search='BigchainDB')\n",
    "    print(res)    "
   ]
  },
  {
   "cell_type": "code",
   "execution_count": null,
   "metadata": {},
   "outputs": [],
   "source": []
  }
 ],
 "metadata": {
  "kernelspec": {
   "display_name": "Python 3",
   "language": "python",
   "name": "python3"
  },
  "language_info": {
   "codemirror_mode": {
    "name": "ipython",
    "version": 3
   },
   "file_extension": ".py",
   "mimetype": "text/x-python",
   "name": "python",
   "nbconvert_exporter": "python",
   "pygments_lexer": "ipython3",
   "version": "3.6.5"
  }
 },
 "nbformat": 4,
 "nbformat_minor": 2
}
